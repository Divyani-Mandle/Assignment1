{
 "cells": [
  {
   "cell_type": "code",
   "execution_count": null,
   "metadata": {},
   "outputs": [],
   "source": [
    "# Write a program with a function that accepts a string from keyboard and create a new string after converting character of\n",
    "# each word captialized. For instance, if the sentence is \"stop and smell the roses.\n",
    "# \"the output should be \"Stop And Smell The Roses\"\n"
   ]
  },
  {
   "cell_type": "code",
   "execution_count": 8,
   "metadata": {},
   "outputs": [],
   "source": [
    "def caps(x):\n",
    "    return(x.title())"
   ]
  },
  {
   "cell_type": "code",
   "execution_count": null,
   "metadata": {},
   "outputs": [],
   "source": [
    "caps(\"stop and smell the roses\")"
   ]
  },
  {
   "cell_type": "code",
   "execution_count": 9,
   "metadata": {},
   "outputs": [
    {
     "data": {
      "text/plain": [
       "'Diksha Anand'"
      ]
     },
     "execution_count": 9,
     "metadata": {},
     "output_type": "execute_result"
    }
   ],
   "source": [
    "caps(\"diksha anand\")"
   ]
  },
  {
   "cell_type": "code",
   "execution_count": null,
   "metadata": {},
   "outputs": [],
   "source": [
    "# Find the sum of each row of matrix of size m x n. For example for the following matrix output will be like this:"
   ]
  },
  {
   "cell_type": "code",
   "execution_count": 3,
   "metadata": {},
   "outputs": [
    {
     "name": "stdout",
     "output_type": "stream",
     "text": [
      "Sum of each row: [32 31 63]\n"
     ]
    }
   ],
   "source": [
    "import numpy as np\n",
    "x = [[2, 11, 7, 12],\n",
    "     [5, 2, 9, 15],\n",
    "     [8, 3, 10, 42]]\n",
    "print(\"Sum of each row:\", np.sum(x,axis = 1))"
   ]
  },
  {
   "cell_type": "code",
   "execution_count": null,
   "metadata": {},
   "outputs": [],
   "source": [
    "# Initialize matrix a  \n",
    "a = [    \n",
    "     [2, 11, 7, 12],\n",
    "     [5, 2, 9, 15],\n",
    "     [8, 3, 10, 42]\n",
    "    ];  \n",
    "   \n",
    "# Calculates number of rows and columns present in given matrix  \n",
    "rows = len(a);    \n",
    "cols = len(a[0]); \n",
    "   \n",
    "# Calculates sum of each row of given matrix  \n",
    "for i in range(0, rows):  \n",
    "    sumRow = 0;  \n",
    "    for j in range(0, cols):  \n",
    "        sumRow = sumRow + a[i][j];  \n",
    "    print(\"Sum of \" + str(i+1) +\" row: \" + str(sumRow));  \n",
    "   "
   ]
  },
  {
   "cell_type": "code",
   "execution_count": null,
   "metadata": {},
   "outputs": [],
   "source": [
    "# write a program to add two matrices of size nxm."
   ]
  },
  {
   "cell_type": "code",
   "execution_count": null,
   "metadata": {},
   "outputs": [],
   "source": [
    "print(\"enter elements of first matrix\")\n",
    "n = int(input(\"Enter the number of rows:\")) \n",
    "m = int(input(\"Enter the number of columns:\")) \n",
    "\n",
    "# Initialize matrix \n",
    "matrix1 = [] \n",
    "matrix2 = []\n",
    "print(\"Enter the entries rowwise for first matrix:\")  \n",
    "  \n",
    "# For user input \n",
    "for i in range(n):         \n",
    "    a =[] \n",
    "    for j in range(m):      \n",
    "         a.append(int(input())) \n",
    "    matrix1.append(a) \n",
    "# For printing the matrix \n",
    "for i in range(n): \n",
    "    for j in range(m): \n",
    "        print(matrix1[i][j], end = \" \") \n",
    "    print() \n",
    "    \n",
    "print(\"enter elements of second matrix\")\n",
    "n = int(input(\"Enter the number of rows:\")) \n",
    "m = int(input(\"Enter the number of columns:\"))  \n",
    "print(\"Enter the entries rowwise for second matrix:\")  \n",
    "  \n",
    "# For user input \n",
    "for i in range(n):         \n",
    "    a =[] \n",
    "    for j in range(m):      \n",
    "         a.append(int(input())) \n",
    "    matrix2.append(a) \n",
    "  \n",
    "# For printing the matrix \n",
    "for i in range(n): \n",
    "    for j in range(m): \n",
    "        print(matrix2[i][j], end = \" \") \n",
    "    print() \n",
    "# addition of matrix \n",
    "    add_matrix = []\n",
    "for i in range(0,n):\n",
    "  a = []\n",
    "  for j in range(0,n):\n",
    "\n",
    "    a.append(matrix1[i][j]+matrix2[i][j])\n",
    "  add_matrix.append(a)\n",
    "print (\"Addition of matrix is\",add_matrix)\n"
   ]
  },
  {
   "cell_type": "code",
   "execution_count": null,
   "metadata": {},
   "outputs": [],
   "source": [
    "write a program to multiply two matrices of size nxm."
   ]
  },
  {
   "cell_type": "code",
   "execution_count": null,
   "metadata": {},
   "outputs": [],
   "source": [
    "print(\"enter elements of first matrix\")\n",
    "n = int(input(\"Enter the number of rows:\")) \n",
    "m = int(input(\"Enter the number of columns:\")) \n",
    "\n",
    "# Initialize matrix \n",
    "matrix1 = [] \n",
    "matrix2 = []\n",
    "print(\"Enter the entries rowwise for first matrix:\")  \n",
    "  \n",
    "# For user input \n",
    "for i in range(n):         \n",
    "    a =[] \n",
    "    for j in range(m):      \n",
    "         a.append(int(input())) \n",
    "    matrix1.append(a) \n",
    "# For printing the matrix \n",
    "for i in range(n): \n",
    "    for j in range(m): \n",
    "        print(matrix1[i][j], end = \" \") \n",
    "    print() \n",
    "    \n",
    "print(\"enter elements of second matrix\")\n",
    "n = int(input(\"Enter the number of rows:\")) \n",
    "m = int(input(\"Enter the number of columns:\"))  \n",
    "print(\"Enter the entries rowwise for second matrix:\")  \n",
    "  \n",
    "# For user input \n",
    "for i in range(n):         \n",
    "    a =[] \n",
    "    for j in range(m):      \n",
    "         a.append(int(input())) \n",
    "    matrix2.append(a) \n",
    "  \n",
    "# For printing the matrix \n",
    "for i in range(n): \n",
    "    for j in range(m): \n",
    "        print(matrix2[i][j], end = \" \") \n",
    "    print() \n",
    "# Multiplication of matrix \n",
    "    Multiplication_matrix = []\n",
    "for i in range(0,n):\n",
    "  a = []\n",
    "  for j in range(0,n):\n",
    "\n",
    "    a.append(matrix1[i][j]*matrix2[i][j])\n",
    "  Multiplication_matrix.append(a)\n",
    "print (\"Multiplication of matrix is\",Multiplication_matrix)"
   ]
  },
  {
   "cell_type": "code",
   "execution_count": null,
   "metadata": {},
   "outputs": [],
   "source": [
    "import numpy as np\n",
    "print(\"enter elements of first matrix\")\n",
    "n = int(input(\"Enter the number of rows:\")) \n",
    "m = int(input(\"Enter the number of columns:\")) \n",
    "\n",
    "# Initialize matrix \n",
    "matrix1 = [] \n",
    "matrix2 = []\n",
    "print(\"Enter the entries rowwise for first matrix:\")  \n",
    "  \n",
    "# For user input \n",
    "for i in range(n):         \n",
    "    a =[] \n",
    "    for j in range(m):      \n",
    "         a.append(int(input())) \n",
    "    matrix1.append(a) \n",
    "# For printing the matrix \n",
    "for i in range(n): \n",
    "    for j in range(m): \n",
    "        print(matrix1[i][j], end = \" \") \n",
    "    print() \n",
    "    \n",
    "print(\"enter elements of second matrix\")\n",
    "n = int(input(\"Enter the number of rows:\")) \n",
    "m = int(input(\"Enter the number of columns:\"))  \n",
    "print(\"Enter the entries rowwise for second matrix:\")  \n",
    "  \n",
    "# For user input \n",
    "for i in range(n):         \n",
    "    a =[] \n",
    "    for j in range(m):      \n",
    "         a.append(int(input())) \n",
    "    matrix2.append(a) \n",
    "  \n",
    "# For printing the matrix \n",
    "for i in range(n): \n",
    "    for j in range(m): \n",
    "        print(matrix2[i][j], end = \" \") \n",
    "    print() \n",
    "result = np.dot(matrix1,matrix2) \n",
    "  \n",
    "for r in result: \n",
    "    print(r) "
   ]
  },
  {
   "cell_type": "code",
   "execution_count": null,
   "metadata": {},
   "outputs": [],
   "source": []
  },
  {
   "cell_type": "code",
   "execution_count": null,
   "metadata": {},
   "outputs": [],
   "source": []
  }
 ],
 "metadata": {
  "kernelspec": {
   "display_name": "Python 3",
   "language": "python",
   "name": "python3"
  },
  "language_info": {
   "codemirror_mode": {
    "name": "ipython",
    "version": 3
   },
   "file_extension": ".py",
   "mimetype": "text/x-python",
   "name": "python",
   "nbconvert_exporter": "python",
   "pygments_lexer": "ipython3",
   "version": "3.8.3"
  }
 },
 "nbformat": 4,
 "nbformat_minor": 4
}
